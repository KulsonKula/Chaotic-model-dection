{
 "cells": [
  {
   "cell_type": "code",
   "execution_count": 4,
   "metadata": {},
   "outputs": [],
   "source": [
    "import pandas as pd\n",
    "import numpy as np\n",
    "import tensorflow as tf\n",
    "import matplotlib.pyplot as plt\n",
    "from tensorflow.keras.callbacks import LearningRateScheduler\n",
    "from sklearn.model_selection import train_test_split\n",
    "from tensorflow.keras import layers\n",
    "from tensorflow.keras import models\n",
    "from keras.callbacks import ModelCheckpoint\n",
    "from tensorflow.keras.callbacks import EarlyStopping\n",
    "import seaborn as sns\n",
    "from sklearn.metrics import confusion_matrix\n"
   ]
  },
  {
   "cell_type": "code",
   "execution_count": 5,
   "metadata": {},
   "outputs": [],
   "source": [
    "def load_data(data_path):\n",
    "    data=pd.read_csv(data_path)\n",
    "    X = data.iloc[: ,:-1].to_numpy()\n",
    "    Y = data['labels'].to_numpy()\n",
    "\n",
    "    X = X.reshape(X.shape[0], X.shape[1], 1)\n",
    "    x_train, x_test, y_train, y_test = train_test_split(X, Y, test_size=0.2, random_state=42)\n",
    "    x_train = x_train.reshape(x_train.shape[0], x_train.shape[1], 1)\n",
    "    x_test = x_test.reshape(x_test.shape[0], x_test.shape[1], 1)\n",
    "\n",
    "    return x_train, x_test, y_train, y_test\n",
    "\n",
    "def create_compile_model():\n",
    "    pass"
   ]
  },
  {
   "cell_type": "markdown",
   "metadata": {},
   "source": [
    "## MODEL 50"
   ]
  },
  {
   "cell_type": "code",
   "execution_count": 6,
   "metadata": {},
   "outputs": [
    {
     "name": "stdout",
     "output_type": "stream",
     "text": [
      "Epoch 1/10\n",
      "7174/7174 [==============================] - 85s 12ms/step - loss: 0.0353 - accuracy: 0.9914 - val_loss: 0.0145 - val_accuracy: 0.9972 - lr: 0.0010\n",
      "Epoch 2/10\n",
      "7174/7174 [==============================] - 83s 12ms/step - loss: 0.0161 - accuracy: 0.9969 - val_loss: 0.0266 - val_accuracy: 0.9943 - lr: 0.0010\n",
      "Epoch 3/10\n",
      "7174/7174 [==============================] - 82s 11ms/step - loss: 0.0104 - accuracy: 0.9980 - val_loss: 0.0113 - val_accuracy: 0.9983 - lr: 0.0010\n",
      "Epoch 4/10\n",
      "7174/7174 [==============================] - 82s 11ms/step - loss: 0.0086 - accuracy: 0.9984 - val_loss: 0.0043 - val_accuracy: 0.9992 - lr: 0.0010\n",
      "Epoch 5/10\n",
      "7174/7174 [==============================] - 83s 12ms/step - loss: 0.0072 - accuracy: 0.9986 - val_loss: 0.0044 - val_accuracy: 0.9992 - lr: 0.0010\n",
      "Epoch 6/10\n",
      "7174/7174 [==============================] - 83s 12ms/step - loss: 0.0051 - accuracy: 0.9991 - val_loss: 0.0023 - val_accuracy: 0.9996 - lr: 0.0010\n",
      "Epoch 7/10\n",
      "7174/7174 [==============================] - 82s 11ms/step - loss: 0.0052 - accuracy: 0.9990 - val_loss: 0.0050 - val_accuracy: 0.9991 - lr: 0.0010\n",
      "Epoch 8/10\n",
      "7174/7174 [==============================] - 83s 12ms/step - loss: 0.0055 - accuracy: 0.9990 - val_loss: 0.0156 - val_accuracy: 0.9966 - lr: 0.0010\n",
      "Epoch 9/10\n",
      "7174/7174 [==============================] - 85s 12ms/step - loss: 0.0050 - accuracy: 0.9991 - val_loss: 0.0020 - val_accuracy: 0.9997 - lr: 0.0010\n",
      "Epoch 10/10\n",
      "7174/7174 [==============================] - 82s 11ms/step - loss: 0.0048 - accuracy: 0.9991 - val_loss: 0.0044 - val_accuracy: 0.9992 - lr: 0.0010\n"
     ]
    },
    {
     "name": "stderr",
     "output_type": "stream",
     "text": [
      "c:\\Users\\Kuba\\AppData\\Local\\Programs\\Python\\Python311\\Lib\\site-packages\\keras\\src\\engine\\training.py:3103: UserWarning: You are saving your model as an HDF5 file via `model.save()`. This file format is considered legacy. We recommend using instead the native Keras format, e.g. `model.save('my_model.keras')`.\n",
      "  saving_api.save_model(\n"
     ]
    }
   ],
   "source": [
    "x_train, x_test, y_train, y_test = load_data(\"../data/data_proccesed_50.csv\")\n",
    "\n",
    "def custom_scheduler(epoch, lr):\n",
    "    if epoch < 10:\n",
    "        return lr\n",
    "    else:\n",
    "        return float(lr * tf.math.exp(-0.02))\n",
    "scheduler = LearningRateScheduler(custom_scheduler)\n",
    "\n",
    "normalizer = layers.Normalization()\n",
    "normalizer.adapt(x_train)\n",
    "\n",
    "model_lstm_50 = models.Sequential([\n",
    "    layers.Input(shape=(x_train.shape[1], x_train.shape[2])), \n",
    "    normalizer,\n",
    "    layers.LSTM(64, activation=\"tanh\"),\n",
    "    layers.Dropout(0.3),\n",
    "    layers.Dense(1, activation=\"sigmoid\"),\n",
    "])\n",
    "\n",
    "model_lstm_50.compile(\n",
    "    optimizer='adam',\n",
    "    loss='binary_crossentropy',\n",
    "    metrics=['accuracy'],\n",
    ")\n",
    "\n",
    "history_lstm_50=model_lstm_50.fit(x_train, y_train, epochs=10, batch_size=64, validation_data=(x_test, y_test), callbacks=[scheduler])\n",
    "\n",
    "model_lstm_50.save(r\"../model/model_50.h5\")\n"
   ]
  },
  {
   "cell_type": "markdown",
   "metadata": {},
   "source": [
    "## MODEL 100"
   ]
  },
  {
   "cell_type": "code",
   "execution_count": null,
   "metadata": {},
   "outputs": [],
   "source": [
    "x_train, x_test, y_train, y_test = load_data(\"../data/data_proccesed_100.csv\")\n",
    "\n",
    "model_lstm_100 = models.Sequential([\n",
    "    layers.Input(shape=(x_train.shape[1], x_train.shape[2])), \n",
    "    normalizer,\n",
    "    layers.LSTM(64, activation=\"tanh\"),\n",
    "    layers.Dropout(0.3),\n",
    "    layers.Dense(1, activation=\"sigmoid\"),\n",
    "])\n",
    "\n",
    "model_lstm_100.compile(\n",
    "    optimizer='adam',\n",
    "    loss='binary_crossentropy',\n",
    "    metrics=['accuracy'],\n",
    ")\n",
    "\n",
    "history_lstm_100=model_lstm_100.fit(x_train, y_train, epochs=10, batch_size=64, validation_data=(x_test, y_test), callbacks=[scheduler])\n",
    "model_lstm_100.save(r\"../model/model_100.h5\")"
   ]
  },
  {
   "cell_type": "markdown",
   "metadata": {},
   "source": [
    "## MODEL 200"
   ]
  },
  {
   "cell_type": "code",
   "execution_count": null,
   "metadata": {},
   "outputs": [],
   "source": [
    "x_train, x_test, y_train, y_test = load_data(\"../data/data_proccesed_200.csv\")\n",
    "\n",
    "model_lstm_200 = models.Sequential([\n",
    "    layers.Input(shape=(x_train.shape[1], x_train.shape[2])), \n",
    "    normalizer,\n",
    "    layers.LSTM(64, activation=\"tanh\"),\n",
    "    layers.Dropout(0.3),\n",
    "    layers.Dense(1, activation=\"sigmoid\"),\n",
    "])\n",
    "\n",
    "model_lstm_200.compile(\n",
    "    optimizer='adam',\n",
    "    loss='binary_crossentropy',\n",
    "    metrics=['accuracy'],\n",
    ")\n",
    "\n",
    "history_lstm_200=model_lstm_200.fit(x_train, y_train, epochs=10, batch_size=64, validation_data=(x_test, y_test), callbacks=[scheduler])\n",
    "\n",
    "model_lstm_200.save(r\"../model/model_200.h5\")"
   ]
  },
  {
   "cell_type": "markdown",
   "metadata": {},
   "source": [
    "## CONVO"
   ]
  },
  {
   "cell_type": "code",
   "execution_count": null,
   "metadata": {},
   "outputs": [],
   "source": [
    "# def custom_scheduler(epoch, lr):\n",
    "#     if epoch < 10:\n",
    "#         return lr\n",
    "#     else:\n",
    "#         return float(lr * tf.math.exp(-0.02))\n",
    "# scheduler = LearningRateScheduler(custom_scheduler)\n",
    "\n",
    "# normalizer = layers.Normalization()\n",
    "# normalizer.adapt(x_train)\n",
    "\n",
    "# model_cnn = models.Sequential([\n",
    "#     layers.Input(shape=(x_train.shape[1], x_train.shape[2])), \n",
    "#     normalizer,\n",
    "#     layers.Conv1D(64, 1, activation=\"relu\"),\n",
    "#     # layers.MaxPooling1D(pool_size=2),\n",
    "#     layers.Dropout(0.3),\n",
    "#     layers.Flatten(),\n",
    "#     layers.Dense(1, activation=\"sigmoid\"),\n",
    "# ])\n",
    "\n",
    "# model_cnn.compile(\n",
    "#     optimizer=tf.keras.optimizers.Adam(),\n",
    "#     loss='binary_crossentropy',\n",
    "#     metrics=['accuracy'],\n",
    "# )\n",
    "\n",
    "# history_cnn=model_cnn.fit(x_train, y_train, epochs=10, batch_size=64, validation_data=(x_test, y_test), callbacks=[scheduler])"
   ]
  }
 ],
 "metadata": {
  "kernelspec": {
   "display_name": "Python 3",
   "language": "python",
   "name": "python3"
  },
  "language_info": {
   "codemirror_mode": {
    "name": "ipython",
    "version": 3
   },
   "file_extension": ".py",
   "mimetype": "text/x-python",
   "name": "python",
   "nbconvert_exporter": "python",
   "pygments_lexer": "ipython3",
   "version": "3.11.5"
  }
 },
 "nbformat": 4,
 "nbformat_minor": 2
}
