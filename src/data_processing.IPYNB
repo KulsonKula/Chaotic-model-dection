{
 "cells": [
  {
   "cell_type": "code",
   "execution_count": 1,
   "metadata": {},
   "outputs": [],
   "source": [
    "import os\n",
    "import pandas as pd\n",
    "import numpy as np"
   ]
  },
  {
   "cell_type": "code",
   "execution_count": 2,
   "metadata": {},
   "outputs": [],
   "source": [
    "def split(df, sample_amount):\n",
    "    reshaped_data = np.reshape(df.values, (-1, sample_amount))\n",
    "    # if len(df) % sample_amount != 0:\n",
    "    #     reshaped_data = reshaped_data[1:]\n",
    "    return reshaped_data"
   ]
  },
  {
   "cell_type": "code",
   "execution_count": 3,
   "metadata": {},
   "outputs": [],
   "source": [
    "def extract_data(data_folder, filename, dim, sample_amount):\n",
    "    file_path = os.path.join(data_folder, filename)\n",
    "    df = pd.read_csv(file_path, header=None)\n",
    " \n",
    "    data_all = None  \n",
    "    for i in range(0, dim):\n",
    "        data = split(df.iloc[:, i], sample_amount)\n",
    "        if data_all is None:\n",
    "            data_all = data\n",
    "        else:\n",
    "            data_all = np.vstack([data_all, data])\n",
    "    return data_all"
   ]
  },
  {
   "cell_type": "code",
   "execution_count": 4,
   "metadata": {},
   "outputs": [],
   "source": [
    "def sample_amount(samples_param):\n",
    "    data = None \n",
    "    data_folder = os.path.join(os.path.dirname(os.getcwd()), 'data', \"chaotic\",\"dim2\")\n",
    "    for filename in os.listdir(data_folder):\n",
    "        extracted_data = extract_data(data_folder, filename, 2, samples_param)\n",
    "        if data is None:\n",
    "            data = extracted_data\n",
    "        else:\n",
    "            data = np.vstack([data, extracted_data])\n",
    "\n",
    "    data_folder = os.path.join(os.path.dirname(os.getcwd()), 'data', \"chaotic\",\"dim3\")\n",
    "    for filename in os.listdir(data_folder):\n",
    "        extracted_data = extract_data(data_folder, filename, 3, samples_param)\n",
    "        if data is None:\n",
    "            data = extracted_data\n",
    "        else:\n",
    "            data = np.vstack([data, extracted_data])\n",
    "\n",
    "    labels = np.flip(np.ones(len(data)))\n",
    "\n",
    "    df = pd.DataFrame( data)\n",
    "    df[\"labels\"]=labels\n",
    "    return df"
   ]
  },
  {
   "cell_type": "code",
   "execution_count": 5,
   "metadata": {},
   "outputs": [],
   "source": [
    "df = sample_amount(50)\n",
    "df"
   ]
  }
 ],
 "metadata": {
  "kernelspec": {
   "display_name": "Python 3",
   "language": "python",
   "name": "python3"
  },
  "language_info": {
   "codemirror_mode": {
    "name": "ipython",
    "version": 3
   },
   "file_extension": ".py",
   "mimetype": "text/x-python",
   "name": "python",
   "nbconvert_exporter": "python",
   "pygments_lexer": "ipython3",
   "version": "3.11.5"
  }
 },
 "nbformat": 4,
 "nbformat_minor": 2
}
